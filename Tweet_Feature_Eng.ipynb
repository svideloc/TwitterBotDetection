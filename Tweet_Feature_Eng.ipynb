{
 "cells": [
  {
   "cell_type": "markdown",
   "metadata": {},
   "source": [
    "## This Notebook Contains Feature Engineering for Tweet Data"
   ]
  },
  {
   "cell_type": "code",
   "execution_count": 1,
   "metadata": {},
   "outputs": [],
   "source": [
    "import pandas as pd\n",
    "import numpy as np\n",
    "import statistics\n",
    "import Levenshtein as lev\n",
    "import seaborn as sns\n",
    "from matplotlib import pyplot as plt"
   ]
  },
  {
   "cell_type": "code",
   "execution_count": 2,
   "metadata": {},
   "outputs": [
    {
     "name": "stderr",
     "output_type": "stream",
     "text": [
      "/home/svideloc/anaconda3/envs/learn-env/lib/python3.7/site-packages/IPython/core/interactiveshell.py:3051: DtypeWarning: Columns (1,9,10) have mixed types. Specify dtype option on import or set low_memory=False.\n",
      "  interactivity=interactivity, compiler=compiler, result=result)\n"
     ]
    }
   ],
   "source": [
    "df = pd.read_csv('All_Tweets.csv')"
   ]
  },
  {
   "cell_type": "markdown",
   "metadata": {},
   "source": [
    "### Dropping Features with Little to No Data"
   ]
  },
  {
   "cell_type": "code",
   "execution_count": 3,
   "metadata": {},
   "outputs": [],
   "source": [
    "df = df.drop(['favorited', 'retweeted', 'contributors', 'place', 'geo', 'truncated', 'Unnamed: 0'], axis=1)"
   ]
  },
  {
   "cell_type": "markdown",
   "metadata": {},
   "source": [
    "### Engineering Features"
   ]
  },
  {
   "cell_type": "code",
   "execution_count": 4,
   "metadata": {},
   "outputs": [],
   "source": [
    "#in_reply_to_user_id grouping by if the count is greater than 5000 or not\n",
    "gp = df.in_reply_to_user_id.value_counts().to_frame().reset_index()\n",
    "gp.columns = ['in_reply_to_user_id', 'counts']\n",
    "df = df.merge(gp, on='in_reply_to_user_id', how='left')\n",
    "\n",
    "#Set threshold and adjust orignal column, drop merged column\n",
    "df['in_reply_to_user_id'] = np.where(df['counts']>5000, 0, 1)\n",
    "df = df.drop(['counts'], axis=1)"
   ]
  },
  {
   "cell_type": "markdown",
   "metadata": {},
   "source": [
    "#### Creating Feature for contains RT or @"
   ]
  },
  {
   "cell_type": "code",
   "execution_count": 5,
   "metadata": {},
   "outputs": [],
   "source": [
    "# String to be searched in start of string  \n",
    "search =\"RT\"\n",
    "search2 =\"@\"\n",
    "  \n",
    "# boolean series returned \n",
    "df['retweet_y_n'] = df[\"text\"].str.startswith(search) \n",
    "df['contains_@'] = df[\"text\"].str.contains(search2)\n",
    "\n",
    "#Replace Bool with int\n",
    "df['retweet_y_n'] = df['retweet_y_n'].replace(True, 1) \n",
    "df['retweet_y_n'] = df['retweet_y_n'].replace(False, 0) \n",
    "df['contains_@'] = df['contains_@'].replace(True, 1) \n",
    "df['contains_@'] = df['contains_@'].replace(False, 0) "
   ]
  },
  {
   "cell_type": "markdown",
   "metadata": {},
   "source": [
    "#### Features for max/min/mean/std of retweet and favorite count, more features on source mode, in_reply_to_user_id mean & a few more"
   ]
  },
  {
   "cell_type": "code",
   "execution_count": 6,
   "metadata": {},
   "outputs": [
    {
     "data": {
      "text/html": [
       "<div>\n",
       "<style scoped>\n",
       "    .dataframe tbody tr th:only-of-type {\n",
       "        vertical-align: middle;\n",
       "    }\n",
       "\n",
       "    .dataframe tbody tr th {\n",
       "        vertical-align: top;\n",
       "    }\n",
       "\n",
       "    .dataframe thead th {\n",
       "        text-align: right;\n",
       "    }\n",
       "</style>\n",
       "<table border=\"1\" class=\"dataframe\">\n",
       "  <thead>\n",
       "    <tr style=\"text-align: right;\">\n",
       "      <th></th>\n",
       "      <th>user_id</th>\n",
       "      <th>retweet_mean</th>\n",
       "      <th>favorite_count_mean</th>\n",
       "      <th>retweet_max</th>\n",
       "      <th>favorite_max</th>\n",
       "      <th>retweet_min</th>\n",
       "      <th>favorite_min</th>\n",
       "      <th>retweet_std</th>\n",
       "      <th>favorite_std</th>\n",
       "      <th>source_mode</th>\n",
       "      <th>in_reply_user_id_mean</th>\n",
       "      <th>retweet_%</th>\n",
       "      <th>contains_@_%</th>\n",
       "    </tr>\n",
       "  </thead>\n",
       "  <tbody>\n",
       "    <tr>\n",
       "      <th>0</th>\n",
       "      <td>586.0</td>\n",
       "      <td>13897.800000</td>\n",
       "      <td>11.566667</td>\n",
       "      <td>183502.0</td>\n",
       "      <td>178.0</td>\n",
       "      <td>0.0</td>\n",
       "      <td>0.0</td>\n",
       "      <td>34847.116648</td>\n",
       "      <td>42.387119</td>\n",
       "      <td>Twitter Web App</td>\n",
       "      <td>1.0</td>\n",
       "      <td>0.866667</td>\n",
       "      <td>1.0</td>\n",
       "    </tr>\n",
       "    <tr>\n",
       "      <th>1</th>\n",
       "      <td>8557.0</td>\n",
       "      <td>985.066667</td>\n",
       "      <td>1.500000</td>\n",
       "      <td>26777.0</td>\n",
       "      <td>39.0</td>\n",
       "      <td>0.0</td>\n",
       "      <td>0.0</td>\n",
       "      <td>4890.865419</td>\n",
       "      <td>7.094194</td>\n",
       "      <td>Twitter for iPhone</td>\n",
       "      <td>1.0</td>\n",
       "      <td>0.466667</td>\n",
       "      <td>0.7</td>\n",
       "    </tr>\n",
       "  </tbody>\n",
       "</table>\n",
       "</div>"
      ],
      "text/plain": [
       "   user_id  retweet_mean  favorite_count_mean  retweet_max  favorite_max  \\\n",
       "0    586.0  13897.800000            11.566667     183502.0         178.0   \n",
       "1   8557.0    985.066667             1.500000      26777.0          39.0   \n",
       "\n",
       "   retweet_min  favorite_min   retweet_std  favorite_std         source_mode  \\\n",
       "0          0.0           0.0  34847.116648     42.387119     Twitter Web App   \n",
       "1          0.0           0.0   4890.865419      7.094194  Twitter for iPhone   \n",
       "\n",
       "   in_reply_user_id_mean  retweet_%  contains_@_%  \n",
       "0                    1.0   0.866667           1.0  \n",
       "1                    1.0   0.466667           0.7  "
      ]
     },
     "execution_count": 6,
     "metadata": {},
     "output_type": "execute_result"
    }
   ],
   "source": [
    "cols = ['user_id', 'retweet_count', 'favorite_count']\n",
    "\n",
    "df1 = df[cols].groupby('user_id').mean() #retweet & favorite count mean for each user\n",
    "df2 = df[cols].groupby('user_id').max() #retweet & favorite count max for each user\n",
    "df3 = df[cols].groupby('user_id').min() #retweet & favorite count min for each user\n",
    "df4 = df[cols].groupby('user_id').std() #retweet & favorite count std for each user\n",
    "df5 = df.groupby(['user_id'])['source'].agg(pd.Series.mode).to_frame() #source mode for each user\n",
    "df6 = df.groupby('user_id')['in_reply_to_user_id'].mean() #in_reply_to_any_user_id percentage of tweets\n",
    "df7 = df.groupby('user_id')['retweet_y_n'].mean() #retweet percentage\n",
    "df8 = df.groupby('user_id')['contains_@'].mean() #@ someone percentage\n",
    "\n",
    "df_features = pd.merge(df1,df2,on='user_id')\n",
    "df_features = pd.merge(df_features, df3, on= 'user_id')\n",
    "df_features = pd.merge(df_features, df4, on= 'user_id')\n",
    "df_features = pd.merge(df_features, df5, on='user_id')\n",
    "df_features = pd.merge(df_features, df6, on='user_id')\n",
    "df_features = pd.merge(df_features, df7, on='user_id')\n",
    "df_features = pd.merge(df_features, df8, on='user_id')\n",
    "\n",
    "#new df column names\n",
    "cols = ['retweet_mean', 'favorite_count_mean', 'retweet_max', 'favorite_max', 'retweet_min', 'favorite_min', 'retweet_std', 'favorite_std', 'source_mode', 'in_reply_user_id_mean', 'retweet_%', 'contains_@_%']\n",
    "\n",
    "df_features.columns = cols\n",
    "df_features = df_features.reset_index()\n",
    "df_features.head(2)"
   ]
  },
  {
   "cell_type": "markdown",
   "metadata": {},
   "source": [
    "#### Dropping a few columns from original df to make it easier to see what I have left to work with"
   ]
  },
  {
   "cell_type": "code",
   "execution_count": 7,
   "metadata": {},
   "outputs": [],
   "source": [
    "cols = ['id', 'retweet_count', 'favorite_count', 'source', 'in_reply_to_user_id', 'in_reply_to_screen_name', 'in_reply_to_status_id', 'retweet_y_n', 'contains_@']\n",
    "df = df.drop(cols, axis=1)"
   ]
  },
  {
   "cell_type": "code",
   "execution_count": 8,
   "metadata": {},
   "outputs": [
    {
     "data": {
      "text/html": [
       "<div>\n",
       "<style scoped>\n",
       "    .dataframe tbody tr th:only-of-type {\n",
       "        vertical-align: middle;\n",
       "    }\n",
       "\n",
       "    .dataframe tbody tr th {\n",
       "        vertical-align: top;\n",
       "    }\n",
       "\n",
       "    .dataframe thead th {\n",
       "        text-align: right;\n",
       "    }\n",
       "</style>\n",
       "<table border=\"1\" class=\"dataframe\">\n",
       "  <thead>\n",
       "    <tr style=\"text-align: right;\">\n",
       "      <th></th>\n",
       "      <th>text</th>\n",
       "      <th>user_id</th>\n",
       "      <th>created_at</th>\n",
       "    </tr>\n",
       "  </thead>\n",
       "  <tbody>\n",
       "    <tr>\n",
       "      <th>0</th>\n",
       "      <td>RT @morningJewshow: Speaking about Jews and co...</td>\n",
       "      <td>678033.0</td>\n",
       "      <td>Fri May 01 00:18:11 +0000 2015</td>\n",
       "    </tr>\n",
       "    <tr>\n",
       "      <th>1</th>\n",
       "      <td>This age/face recognition thing..no reason pla...</td>\n",
       "      <td>678033.0</td>\n",
       "      <td>Thu Apr 30 21:50:52 +0000 2015</td>\n",
       "    </tr>\n",
       "  </tbody>\n",
       "</table>\n",
       "</div>"
      ],
      "text/plain": [
       "                                                text   user_id  \\\n",
       "0  RT @morningJewshow: Speaking about Jews and co...  678033.0   \n",
       "1  This age/face recognition thing..no reason pla...  678033.0   \n",
       "\n",
       "                       created_at  \n",
       "0  Fri May 01 00:18:11 +0000 2015  \n",
       "1  Thu Apr 30 21:50:52 +0000 2015  "
      ]
     },
     "execution_count": 8,
     "metadata": {},
     "output_type": "execute_result"
    }
   ],
   "source": [
    "df.head(2)"
   ]
  },
  {
   "cell_type": "code",
   "execution_count": 9,
   "metadata": {},
   "outputs": [
    {
     "data": {
      "text/plain": [
       "<a href=\"http://twitter.com\" rel=\"nofollow\">Twitter Web Client</a>                      3620\n",
       "Twitter for iPhone                                                                       978\n",
       "<a href=\"http://twitter.com/download/iphone\" rel=\"nofollow\">Twitter for iPhone</a>       493\n",
       "Twitter Web App                                                                          453\n",
       "<a href=\"http://twitter.com/download/android\" rel=\"nofollow\">Twitter for Android</a>     203\n",
       "                                                                                        ... \n",
       "<a href=\"http://www.lucianaDania.com\" rel=\"nofollow\">lucianaDania</a>                      1\n",
       "<a href=\"http://www.sharedby.co\" rel=\"nofollow\">SharedBy</a>                               1\n",
       "<a href=\"http://www.zoarib.it\" rel=\"nofollow\">ziarib</a>                                   1\n",
       "<a href=\"http://www.politicoblu.com\" rel=\"nofollow\">politicoblu</a>                        1\n",
       "[Hootsuite Inc., Twitter Web App]                                                          1\n",
       "Name: source_mode, Length: 372, dtype: int64"
      ]
     },
     "execution_count": 9,
     "metadata": {},
     "output_type": "execute_result"
    }
   ],
   "source": [
    "df_features.source_mode.value_counts()"
   ]
  },
  {
   "cell_type": "markdown",
   "metadata": {},
   "source": [
    "Trying to deal with Source Mode..."
   ]
  },
  {
   "cell_type": "code",
   "execution_count": 10,
   "metadata": {},
   "outputs": [],
   "source": [
    "df_features['source_mode'] = df_features.source_mode.astype(str)"
   ]
  },
  {
   "cell_type": "code",
   "execution_count": 11,
   "metadata": {},
   "outputs": [],
   "source": [
    "#in_reply_to_user_id grouping by if the count is greater than 5000 or not\n",
    "gp = df_features.source_mode.value_counts().to_frame().reset_index()\n",
    "gp.columns = ['source_mode', 'counts']\n",
    "df_features = df_features.merge(gp, on='source_mode', how='left')\n",
    "\n",
    "#Set threshold and adjust orignal column, drop merged column\n",
    "df_features['source_mode'] = np.where(df_features['counts']<100, '1', df_features['source_mode'])\n",
    "df_features = df_features.drop(['counts'], axis=1)"
   ]
  },
  {
   "cell_type": "code",
   "execution_count": 12,
   "metadata": {},
   "outputs": [],
   "source": [
    "df_features['source_mode'] = df_features.source_mode.replace('<a href=\"http://twitter.com\" rel=\"nofollow\">Twitter Web Client</a>', 'Twitter Web App')\n",
    "df_features['source_mode'] = df_features.source_mode.replace('1', 'Other')\n",
    "df_features['source_mode'] = df_features.source_mode.replace('<a href=\"http://twitter.com/download/iphone\" rel=\"nofollow\">Twitter for iPhone</a>', 'Twitter for iPhone')\n",
    "df_features['source_mode'] = df_features.source_mode.replace('<a href=\"http://twitter.com/download/android\" rel=\"nofollow\">Twitter for Android</a>', 'Twitter for Android')"
   ]
  },
  {
   "cell_type": "code",
   "execution_count": 13,
   "metadata": {},
   "outputs": [
    {
     "data": {
      "text/plain": [
       "Twitter Web App        4073\n",
       "Other                  1481\n",
       "Twitter for iPhone     1471\n",
       "Twitter for Android     345\n",
       "TweetDeck               146\n",
       "Name: source_mode, dtype: int64"
      ]
     },
     "execution_count": 13,
     "metadata": {},
     "output_type": "execute_result"
    }
   ],
   "source": [
    "df_features.source_mode.value_counts()"
   ]
  },
  {
   "cell_type": "code",
   "execution_count": 33,
   "metadata": {},
   "outputs": [
    {
     "data": {
      "text/html": [
       "<div>\n",
       "<style scoped>\n",
       "    .dataframe tbody tr th:only-of-type {\n",
       "        vertical-align: middle;\n",
       "    }\n",
       "\n",
       "    .dataframe tbody tr th {\n",
       "        vertical-align: top;\n",
       "    }\n",
       "\n",
       "    .dataframe thead th {\n",
       "        text-align: right;\n",
       "    }\n",
       "</style>\n",
       "<table border=\"1\" class=\"dataframe\">\n",
       "  <thead>\n",
       "    <tr style=\"text-align: right;\">\n",
       "      <th></th>\n",
       "      <th>user_id</th>\n",
       "      <th>retweet_mean</th>\n",
       "      <th>favorite_count_mean</th>\n",
       "      <th>retweet_max</th>\n",
       "      <th>favorite_max</th>\n",
       "      <th>retweet_min</th>\n",
       "      <th>favorite_min</th>\n",
       "      <th>retweet_std</th>\n",
       "      <th>favorite_std</th>\n",
       "      <th>source_mode</th>\n",
       "      <th>in_reply_user_id_mean</th>\n",
       "      <th>retweet_%</th>\n",
       "      <th>contains_@_%</th>\n",
       "    </tr>\n",
       "  </thead>\n",
       "  <tbody>\n",
       "    <tr>\n",
       "      <th>0</th>\n",
       "      <td>586.0</td>\n",
       "      <td>13897.800000</td>\n",
       "      <td>11.566667</td>\n",
       "      <td>183502.0</td>\n",
       "      <td>178.0</td>\n",
       "      <td>0.0</td>\n",
       "      <td>0.0</td>\n",
       "      <td>34847.116648</td>\n",
       "      <td>42.387119</td>\n",
       "      <td>Twitter Web App</td>\n",
       "      <td>1.0</td>\n",
       "      <td>0.866667</td>\n",
       "      <td>1.000000</td>\n",
       "    </tr>\n",
       "    <tr>\n",
       "      <th>1</th>\n",
       "      <td>8557.0</td>\n",
       "      <td>985.066667</td>\n",
       "      <td>1.500000</td>\n",
       "      <td>26777.0</td>\n",
       "      <td>39.0</td>\n",
       "      <td>0.0</td>\n",
       "      <td>0.0</td>\n",
       "      <td>4890.865419</td>\n",
       "      <td>7.094194</td>\n",
       "      <td>Twitter for iPhone</td>\n",
       "      <td>1.0</td>\n",
       "      <td>0.466667</td>\n",
       "      <td>0.700000</td>\n",
       "    </tr>\n",
       "    <tr>\n",
       "      <th>2</th>\n",
       "      <td>12522.0</td>\n",
       "      <td>20.233333</td>\n",
       "      <td>0.600000</td>\n",
       "      <td>581.0</td>\n",
       "      <td>2.0</td>\n",
       "      <td>0.0</td>\n",
       "      <td>0.0</td>\n",
       "      <td>105.977448</td>\n",
       "      <td>0.621455</td>\n",
       "      <td>TweetDeck</td>\n",
       "      <td>1.0</td>\n",
       "      <td>0.133333</td>\n",
       "      <td>0.966667</td>\n",
       "    </tr>\n",
       "    <tr>\n",
       "      <th>3</th>\n",
       "      <td>612473.0</td>\n",
       "      <td>60.533333</td>\n",
       "      <td>86.900000</td>\n",
       "      <td>630.0</td>\n",
       "      <td>1070.0</td>\n",
       "      <td>1.0</td>\n",
       "      <td>0.0</td>\n",
       "      <td>118.056600</td>\n",
       "      <td>234.915737</td>\n",
       "      <td>Other</td>\n",
       "      <td>1.0</td>\n",
       "      <td>0.400000</td>\n",
       "      <td>0.500000</td>\n",
       "    </tr>\n",
       "    <tr>\n",
       "      <th>4</th>\n",
       "      <td>652193.0</td>\n",
       "      <td>43.133333</td>\n",
       "      <td>11.533333</td>\n",
       "      <td>1035.0</td>\n",
       "      <td>70.0</td>\n",
       "      <td>0.0</td>\n",
       "      <td>0.0</td>\n",
       "      <td>188.214429</td>\n",
       "      <td>17.093522</td>\n",
       "      <td>Other</td>\n",
       "      <td>1.0</td>\n",
       "      <td>0.233333</td>\n",
       "      <td>0.533333</td>\n",
       "    </tr>\n",
       "  </tbody>\n",
       "</table>\n",
       "</div>"
      ],
      "text/plain": [
       "    user_id  retweet_mean  favorite_count_mean  retweet_max  favorite_max  \\\n",
       "0     586.0  13897.800000            11.566667     183502.0         178.0   \n",
       "1    8557.0    985.066667             1.500000      26777.0          39.0   \n",
       "2   12522.0     20.233333             0.600000        581.0           2.0   \n",
       "3  612473.0     60.533333            86.900000        630.0        1070.0   \n",
       "4  652193.0     43.133333            11.533333       1035.0          70.0   \n",
       "\n",
       "   retweet_min  favorite_min   retweet_std  favorite_std         source_mode  \\\n",
       "0          0.0           0.0  34847.116648     42.387119     Twitter Web App   \n",
       "1          0.0           0.0   4890.865419      7.094194  Twitter for iPhone   \n",
       "2          0.0           0.0    105.977448      0.621455           TweetDeck   \n",
       "3          1.0           0.0    118.056600    234.915737               Other   \n",
       "4          0.0           0.0    188.214429     17.093522               Other   \n",
       "\n",
       "   in_reply_user_id_mean  retweet_%  contains_@_%  \n",
       "0                    1.0   0.866667      1.000000  \n",
       "1                    1.0   0.466667      0.700000  \n",
       "2                    1.0   0.133333      0.966667  \n",
       "3                    1.0   0.400000      0.500000  \n",
       "4                    1.0   0.233333      0.533333  "
      ]
     },
     "execution_count": 33,
     "metadata": {},
     "output_type": "execute_result"
    }
   ],
   "source": [
    "df_features.head()"
   ]
  },
  {
   "cell_type": "markdown",
   "metadata": {},
   "source": [
    "### Other Ideas"
   ]
  },
  {
   "cell_type": "code",
   "execution_count": 9,
   "metadata": {},
   "outputs": [],
   "source": [
    "#Lev Distance Between Users Tweets\n",
    "#Sentiment Analysis of Users Tweet?\n",
    "#What Can we do with Time?"
   ]
  },
  {
   "cell_type": "markdown",
   "metadata": {},
   "source": [
    "### Merging User And New Engineered Feature Data"
   ]
  },
  {
   "cell_type": "code",
   "execution_count": 14,
   "metadata": {},
   "outputs": [],
   "source": [
    "df_train = pd.read_csv('Train.csv')"
   ]
  },
  {
   "cell_type": "code",
   "execution_count": 15,
   "metadata": {},
   "outputs": [
    {
     "data": {
      "text/plain": [
       "0    5295\n",
       "1    4448\n",
       "Name: target, dtype: int64"
      ]
     },
     "execution_count": 15,
     "metadata": {},
     "output_type": "execute_result"
    }
   ],
   "source": [
    "df_train.target.value_counts()"
   ]
  },
  {
   "cell_type": "code",
   "execution_count": 16,
   "metadata": {},
   "outputs": [],
   "source": [
    "df_final = df_features.merge(df_train, left_on='user_id', right_on='id')"
   ]
  },
  {
   "cell_type": "code",
   "execution_count": 17,
   "metadata": {},
   "outputs": [],
   "source": [
    "df_final.to_csv('FINAL_DF.csv')"
   ]
  }
 ],
 "metadata": {
  "kernelspec": {
   "display_name": "Python 3",
   "language": "python",
   "name": "python3"
  },
  "language_info": {
   "codemirror_mode": {
    "name": "ipython",
    "version": 3
   },
   "file_extension": ".py",
   "mimetype": "text/x-python",
   "name": "python",
   "nbconvert_exporter": "python",
   "pygments_lexer": "ipython3",
   "version": "3.7.6"
  }
 },
 "nbformat": 4,
 "nbformat_minor": 4
}
