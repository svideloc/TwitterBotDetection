{
 "cells": [
  {
   "cell_type": "markdown",
   "metadata": {},
   "source": [
    "## Data Clean and Engineer for User Data"
   ]
  },
  {
   "cell_type": "code",
   "execution_count": 1,
   "metadata": {},
   "outputs": [],
   "source": [
    "import pandas as pd\n",
    "import numpy as np\n",
    "\n",
    "from matplotlib import pyplot as plt\n",
    "import seaborn as sns; sns.set()\n",
    "%matplotlib inline\n",
    "\n",
    "import warnings\n",
    "warnings.filterwarnings(\"ignore\")\n",
    "\n",
    "import gc; gc.enable()"
   ]
  },
  {
   "cell_type": "markdown",
   "metadata": {},
   "source": [
    "## Import Data & Merge Tables"
   ]
  },
  {
   "cell_type": "code",
   "execution_count": 2,
   "metadata": {},
   "outputs": [],
   "source": [
    "#Import Real Tweet Data\n",
    "df_tweets_real = pd.read_csv('tweets_real.csv')\n",
    "df_users_real = pd.read_csv('users_real.csv')\n",
    "\n",
    "#Drop columns that dont have much data\n",
    "df_users_real = df_users_real.drop(['test_set_2'], axis=1)\n",
    "df_users_real = df_users_real.drop(['timestamp'], axis=1)\n",
    "df_users_real = df_users_real.drop(['crawled_at'], axis=1)\n",
    "df_users_real = df_users_real.drop(['test_set_1'], axis=1)\n",
    "\n",
    "#Add column to df_users with target\n",
    "df_users_real['target'] = 0 #isreal\n",
    "\n",
    "#Import social spambot Data\n",
    "df_users_spambot1 = pd.read_csv('users_social_spambot1.csv')\n",
    "df_users_spambot1 = df_users_spambot1.drop(['test_set_1'], axis=1)\n",
    "df_users_spambot1 = df_users_spambot1.drop(['timestamp'], axis=1)\n",
    "df_users_spambot1 = df_users_spambot1.drop(['crawled_at'], axis=1)\n",
    "df_users_spambot2 = pd.read_csv('users_social_spambot2.csv')\n",
    "df_users_spambot2 = df_users_spambot2.drop(['timestamp'], axis=1)\n",
    "df_users_spambot2 = df_users_spambot2.drop(['crawled_at'], axis=1)\n",
    "df_users_spambot = pd.concat([df_users_spambot1, df_users_spambot2])\n",
    "\n",
    "#Add column to df_users with target\n",
    "df_users_spambot['target'] = 1 #isSpamBot\n",
    "\n",
    "#Import Fake Follwers Accounts (NOT USING FOR NOW)\n",
    "# df_users_fake = pd.read_csv('users_fake_followers.csv')\n",
    "# df_tweets_fake = pd.read_csv('tweets_fake_followers.csv')\n",
    "\n",
    "#Add column to df_users with target\n",
    "# df_users_fake['target'] = 2 #isFakeFollower\n",
    "\n",
    "#merge the tables above\n",
    "# df_users = pd.concat([df_users_real, df_users_spambot, df_users_fake])\n",
    "df_users = pd.concat([df_users_real, df_users_spambot])\n",
    "# df_tweets = pd.concat([df_tweets_real, df_tweets_spambot])"
   ]
  },
  {
   "cell_type": "markdown",
   "metadata": {},
   "source": [
    "## Dropping Columns with Bad Data/Useless Data"
   ]
  },
  {
   "cell_type": "code",
   "execution_count": 3,
   "metadata": {},
   "outputs": [],
   "source": [
    "#Droppping A Few Columns That that have very few data points\n",
    "df_users = df_users.drop(['is_translator', 'profile_background_tile', 'default_profile_image', 'follow_request_sent', 'protected', 'verified', 'notifications', 'contributors_enabled', 'following', 'updated', 'profile_use_background_image'], axis=1)\n",
    "\n",
    "#Dropping columns that are entirely or mostly unique\n",
    "df_users = df_users.drop(['screen_name', 'name', 'profile_image_url', 'profile_image_url_https'], axis=1)\n",
    "\n",
    "#If a link was provided then = 1 else = 0\n",
    "df_users['url'] = df_users['url'].isna()\n",
    "df_users['url'] = df_users['url'].apply(lambda x: 0 if x == True else 1)\n",
    "\n",
    "df_users['profile_banner_url'] = df_users['profile_banner_url'].isna()\n",
    "df_users['profile_banner_url'] = df_users['profile_banner_url'].apply(lambda x: 0 if x == True else 1)\n",
    "\n",
    "#replaced na's with 0, trues are 1\n",
    "df_users['default_profile'] = df_users['default_profile'].fillna(0)\n",
    "df_users['geo_enabled'] = df_users['geo_enabled'].fillna(0)"
   ]
  },
  {
   "cell_type": "markdown",
   "metadata": {},
   "source": [
    "## More real user data gathered from twitter API"
   ]
  },
  {
   "cell_type": "code",
   "execution_count": 4,
   "metadata": {},
   "outputs": [],
   "source": [
    "#MORE REAL USERS!!! From Twitter API\n",
    "df_users_real2 = pd.read_csv('more_real_users.csv')\n",
    "df_users_real2 = df_users_real2.drop(['Unnamed: 0', 'profile_background_title' ], axis=1)\n",
    "df_users_real2['target'] = 0 #isreal\n",
    "\n",
    "df_users_real2['url'] = df_users_real2['url'].isna()\n",
    "df_users_real2['url'] = df_users_real2['url'].apply(lambda x: 0 if x == True else 1)\n",
    "\n",
    "df_users_real2['profile_banner_url'] = df_users_real2['profile_banner_url'].isna()\n",
    "df_users_real2['profile_banner_url'] = df_users_real2['profile_banner_url'].apply(lambda x: 0 if x == True else 1)\n",
    "\n",
    "#replaced na's with 0, trues are 1\n",
    "df_users_real2['default_profile'] = df_users_real2['default_profile'].fillna(0)\n",
    "df_users_real2['geo_enabled'] = df_users_real2['geo_enabled'].fillna(0)\n",
    "\n",
    "#replaced na's with 0, trues are 1\n",
    "df_users_real2['default_profile'] = df_users_real2['default_profile'].replace(True, 1)\n",
    "df_users_real2['default_profile'] = df_users_real2['default_profile'].replace(False, 0)\n",
    "df_users_real2['geo_enabled'] = df_users_real2['geo_enabled'].replace(True, 1)\n",
    "df_users_real2['geo_enabled'] = df_users_real2['geo_enabled'].replace(False, 0)"
   ]
  },
  {
   "cell_type": "markdown",
   "metadata": {},
   "source": [
    "## Preparing Final Dataset & Sending to CSV"
   ]
  },
  {
   "cell_type": "code",
   "execution_count": 5,
   "metadata": {},
   "outputs": [],
   "source": [
    "df_final = pd.concat([df_users, df_users_real2])\n",
    "df_final['profile_background_image_url_https'] = df_final['profile_background_image_url_https'].fillna(df_final['profile_background_image_url_https'].mode()[0])\n",
    "df_final['profile_background_image_url'] = df_final['profile_background_image_url'].fillna(df_final['profile_background_image_url'].mode()[0])"
   ]
  },
  {
   "cell_type": "code",
   "execution_count": 31,
   "metadata": {
    "jupyter": {
     "source_hidden": true
    }
   },
   "outputs": [],
   "source": [
    "# #This code Adjusts Unique Values for Different Features\n",
    "# #Create new feature with counts and merge onto df\n",
    "# gp = df_final.profile_background_image_url_https.value_counts().to_frame().reset_index()\n",
    "# gp.columns = ['profile_background_image_url_https', 'counts']\n",
    "# df_final = df_final.merge(gp, on='profile_background_image_url_https', how='left')\n",
    "\n",
    "# #Set threshold and adjust orignal column, drop merged column\n",
    "# df_final['profile_background_image_url_https'] = np.where(df_final['counts']<50, '1', df_final['profile_background_image_url_https'])\n",
    "# df_final = df_final.drop(['counts'], axis=1)\n",
    "\n",
    "# #NEXT\n",
    "# gp = df_final.profile_text_color.value_counts().to_frame().reset_index()\n",
    "# gp.columns = ['profile_text_color', 'counts']\n",
    "# df_final = df_final.merge(gp, on='profile_text_color', how='left')\n",
    "\n",
    "# #Set threshold and adjust orignal column, drop merged column\n",
    "# df_final['profile_text_color'] = np.where(df_final['counts']<25, '1', df_final['profile_text_color'])\n",
    "# df_final = df_final.drop(['counts'], axis=1)\n",
    "\n",
    "# #NEXT\n",
    "# gp = df_final.profile_sidebar_border_color.value_counts().to_frame().reset_index()\n",
    "# gp.columns = ['profile_sidebar_border_color', 'counts']\n",
    "# df_final = df_final.merge(gp, on='profile_sidebar_border_color', how='left')\n",
    "\n",
    "# #Set threshold and adjust orignal column, drop merged column\n",
    "# df_final['profile_sidebar_border_color'] = np.where(df_final['counts']<55, '1', df_final['profile_sidebar_border_color'])\n",
    "# df_final = df_final.drop(['counts'], axis=1)\n",
    "\n",
    "# #NEXT\n",
    "# gp = df_final.profile_sidebar_fill_color.value_counts().to_frame().reset_index()\n",
    "# gp.columns = ['profile_sidebar_fill_color', 'counts']\n",
    "# df_final = df_final.merge(gp, on='profile_sidebar_fill_color', how='left')\n",
    "\n",
    "# #Set threshold and adjust orignal column, drop merged column\n",
    "# df_final['profile_sidebar_fill_color'] = np.where(df_final['counts']<65, '1', df_final['profile_sidebar_fill_color'])\n",
    "# df_final = df_final.drop(['counts'], axis=1)\n",
    "# df_final.profile_sidebar_fill_color.value_counts()\n",
    "\n",
    "# #NEXT\n",
    "# gp = df_final.profile_background_image_url.value_counts().to_frame().reset_index()\n",
    "# gp.columns = ['profile_background_image_url', 'counts']\n",
    "# df_final = df_final.merge(gp, on='profile_background_image_url', how='left')\n",
    "\n",
    "# #Set threshold and adjust orignal column, drop merged column\n",
    "# df_final['profile_background_image_url'] = np.where(df_final['counts']<65, '1', df_final['profile_background_image_url'])\n",
    "# df_final = df_final.drop(['counts'], axis=1)\n",
    "\n",
    "# #NEXT\n",
    "# gp = df_final.profile_background_color.value_counts().to_frame().reset_index()\n",
    "# gp.columns = ['profile_background_color', 'counts']\n",
    "# df_final = df_final.merge(gp, on='profile_background_color', how='left')\n",
    "\n",
    "# #Set threshold and adjust orignal column, drop merged column\n",
    "# df_final['profile_background_color'] = np.where(df_final['counts']<65, '1', df_final['profile_background_color'])\n",
    "# df_final = df_final.drop(['counts'], axis=1)\n",
    "\n",
    "# #NEXT\n",
    "# gp = df_final.profile_link_color.value_counts().to_frame().reset_index()\n",
    "# gp.columns = ['profile_link_color', 'counts']\n",
    "# df_final = df_final.merge(gp, on='profile_link_color', how='left')\n",
    "\n",
    "# #Set threshold and adjust orignal column, drop merged column\n",
    "# df_final['profile_link_color'] = np.where(df_final['counts']<65, '1', df_final['profile_link_color'])\n",
    "# df_final = df_final.drop(['counts'], axis=1)"
   ]
  },
  {
   "cell_type": "code",
   "execution_count": 7,
   "metadata": {},
   "outputs": [],
   "source": [
    "#This for loop loops through the below columns and makes them binary, either ARE YOU UNIQUE == 1, if not == 0\n",
    "\n",
    "cols_to_binary = ['profile_background_image_url_https','profile_text_color','profile_sidebar_border_color','profile_sidebar_fill_color',\n",
    "                 'profile_background_image_url', 'profile_background_color', 'profile_link_color']\n",
    "for col in cols_to_binary:\n",
    "    gp = df_final[col].value_counts().to_frame().reset_index()\n",
    "    gp.columns = [col, 'counts']\n",
    "    df_final = df_final.merge(gp, on=col, how='left')\n",
    "\n",
    "    #Set threshold and adjust orignal column, drop merged column\n",
    "    df_final[col] = np.where(df_final['counts']==1, 1, 0)\n",
    "    df_final = df_final.drop(['counts'], axis=1)"
   ]
  },
  {
   "cell_type": "code",
   "execution_count": 8,
   "metadata": {},
   "outputs": [
    {
     "data": {
      "text/plain": [
       "0    5295\n",
       "1    4448\n",
       "Name: target, dtype: int64"
      ]
     },
     "execution_count": 8,
     "metadata": {},
     "output_type": "execute_result"
    }
   ],
   "source": [
    "df_final.target.value_counts()"
   ]
  },
  {
   "cell_type": "code",
   "execution_count": 10,
   "metadata": {},
   "outputs": [],
   "source": [
    "df_final.to_csv('Train.csv')"
   ]
  }
 ],
 "metadata": {
  "kernelspec": {
   "display_name": "Python 3",
   "language": "python",
   "name": "python3"
  },
  "language_info": {
   "codemirror_mode": {
    "name": "ipython",
    "version": 3
   },
   "file_extension": ".py",
   "mimetype": "text/x-python",
   "name": "python",
   "nbconvert_exporter": "python",
   "pygments_lexer": "ipython3",
   "version": "3.7.6"
  }
 },
 "nbformat": 4,
 "nbformat_minor": 4
}
